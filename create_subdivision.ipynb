{
 "cells": [
  {
   "cell_type": "code",
   "execution_count": 3,
   "metadata": {},
   "outputs": [],
   "source": [
    "import numpy as np\n",
    "import random\n",
    "import os\n",
    "import json\n",
    "\n",
    "import helper"
   ]
  },
  {
   "cell_type": "code",
   "execution_count": null,
   "metadata": {},
   "outputs": [],
   "source": [
    "numOfGroups = 5"
   ]
  },
  {
   "cell_type": "code",
   "execution_count": 4,
   "metadata": {},
   "outputs": [
    {
     "name": "stdout",
     "output_type": "stream",
     "text": [
      "(92, 4)\n",
      "(92, 4)\n",
      "31598\n",
      "{8: 1972, 59: 615, 88: 317, 26: 260, 86: 92, 68: 1107, 4: 974, 83: 36, 35: 965, 84: 394, 81: 413, 39: 259, 11: 628, 16: 654, 61: 555, 52: 197, 60: 41, 20: 1038, 74: 823, 69: 287, 29: 299, 50: 1091, 47: 518, 38: 317, 46: 286, 3: 991, 56: 841, 43: 180, 9: 681, 55: 243, 53: 205, 41: 74, 82: 1186, 77: 1144, 7: 1336, 48: 197, 44: 656, 57: 96, 1: 634, 87: 230, 36: 249, 24: 265, 40: 91, 92: 416, 93: 229, 70: 161, 28: 801, 67: 500, 54: 914, 89: 484, 62: 574, 0: 904, 17: 555, 37: 407, 5: 475, 75: 413, 45: 117, 10: 824, 58: 126, 15: 261}\n",
      "Group 0: stressed = 6338 tiles = [8, 59, 88, 26, 86, 68, 4, 83, 35]\n",
      "Group 1: stressed = 6679 tiles = [84, 81, 39, 11, 16, 61, 52, 60, 20, 74, 69, 29, 50]\n",
      "Group 2: stressed = 6666 tiles = [47, 38, 46, 3, 56, 43, 9, 55, 53, 41, 82, 77]\n",
      "Group 3: stressed = 6775 tiles = [7, 48, 44, 57, 1, 87, 36, 24, 40, 92, 93, 70, 28, 67, 54]\n",
      "Group 4: stressed = 5140 tiles = [89, 62, 0, 17, 37, 5, 75, 45, 10, 58, 15]\n"
     ]
    }
   ],
   "source": [
    "dictOfStressedImageNames = {}\n",
    "for v in helper.getStressedImagesNames('stress_date.xlsx'):\n",
    "    if v is not None:\n",
    "        dictOfStressedImageNames[v[0]] = v[1]\n",
    "\n",
    "dictOfReferenceImageNames = {}\n",
    "for v in helper.getStressedImagesNames('reference_date.xlsx'):\n",
    "    if v is not None:\n",
    "        dictOfReferenceImageNames[v[0]] = v[1]\n",
    "\n",
    "avaibleTiles = list(set.intersection(set(dictOfStressedImageNames.keys()), set(dictOfReferenceImageNames.keys())))\n",
    "avaibleTiles.remove(32)\n",
    "random.shuffle(avaibleTiles)\n",
    "\n",
    "totalStressed = 0\n",
    "numOfStressedPerImage = {}\n",
    "for tile in avaibleTiles:\n",
    "    _, _, mask = helper.loadImage(dictOfStressedImageNames[tile], helper.LOAD_IMASK_BIT)\n",
    "    s = np.sum(mask == 1) # 1 - stressed\n",
    "    numOfStressedPerImage[tile] = s\n",
    "    totalStressed += s\n",
    "\n",
    "print(totalStressed)\n",
    "print(numOfStressedPerImage)\n",
    "\n",
    "index = 0\n",
    "counter = 0\n",
    "numOfTilesPerGroup = [0] * numOfGroups\n",
    "thresholdCount = totalStressed // numOfGroups\n",
    "for tile in avaibleTiles:\n",
    "    numOfTilesPerGroup[index] += 1\n",
    "    counter += numOfStressedPerImage[tile]\n",
    "    if (counter > thresholdCount):\n",
    "        index += 1\n",
    "        counter = 0\n",
    "\n",
    "index = 0\n",
    "tilesPerGroup = [None] * numOfGroups\n",
    "for i in range(len(numOfTilesPerGroup)):\n",
    "    num = numOfTilesPerGroup[i]\n",
    "    tilesPerGroup[i] = avaibleTiles[index:index+num]\n",
    "    index += num\n",
    "\n",
    "    c = 0\n",
    "    for t in tilesPerGroup[i]:\n",
    "        c += numOfStressedPerImage[t]\n",
    "\n",
    "    print(f\"Group {i}: stressed = {c} tiles = {tilesPerGroup[i]}\")\n",
    "\n",
    "with open(os.path.join(\"subdivs\", f\"tiles_2img_{numOfGroups}.json\"), 'w') as fout:\n",
    "    json.dump(tilesPerGroup, fout)"
   ]
  }
 ],
 "metadata": {
  "kernelspec": {
   "display_name": "swiftt",
   "language": "python",
   "name": "python3"
  },
  "language_info": {
   "codemirror_mode": {
    "name": "ipython",
    "version": 3
   },
   "file_extension": ".py",
   "mimetype": "text/x-python",
   "name": "python",
   "nbconvert_exporter": "python",
   "pygments_lexer": "ipython3",
   "version": "3.11.3"
  }
 },
 "nbformat": 4,
 "nbformat_minor": 2
}
